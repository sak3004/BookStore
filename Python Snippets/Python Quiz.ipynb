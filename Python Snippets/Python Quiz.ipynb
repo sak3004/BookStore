{
 "cells": [
  {
   "cell_type": "code",
   "execution_count": 10,
   "metadata": {
    "collapsed": false
   },
   "outputs": [
    {
     "name": "stdout",
     "output_type": "stream",
     "text": [
      "Please Enter an integer:5\n",
      "More\n"
     ]
    }
   ],
   "source": [
    "x=int(input(\"Please Enter an integer:\"))\n",
    "if x<0:\n",
    "    x=0\n",
    "    print(\"Negative changed to zero\")\n",
    "elif x==0:\n",
    "    print(\"Zero\")\n",
    "elif x==1:\n",
    "    print(\"One\")\n",
    "else:\n",
    "    print(\"More\")"
   ]
  },
  {
   "cell_type": "code",
   "execution_count": 11,
   "metadata": {
    "collapsed": false
   },
   "outputs": [
    {
     "name": "stdout",
     "output_type": "stream",
     "text": [
      "Cars 4\n",
      "Dog 3\n",
      "Samarjoy 8\n",
      "Saksham 7\n"
     ]
    }
   ],
   "source": [
    "word=[\"Cars\",\"Dog\",\"Samarjoy\",\"Saksham\"]\n",
    "for w in word:\n",
    "    print(w,len(w))"
   ]
  },
  {
   "cell_type": "code",
   "execution_count": 12,
   "metadata": {
    "collapsed": false
   },
   "outputs": [
    {
     "name": "stdout",
     "output_type": "stream",
     "text": [
      "Enter string: Saksham\n",
      "7\n"
     ]
    }
   ],
   "source": [
    "x=input(\"Enter string: \")\n",
    "print(len(x))"
   ]
  },
  {
   "cell_type": "code",
   "execution_count": 15,
   "metadata": {
    "collapsed": false
   },
   "outputs": [
    {
     "name": "stdout",
     "output_type": "stream",
     "text": [
      "['Rastogi', 'Saksham', 'Saksham', 'Rastogi', 'abc']\n"
     ]
    }
   ],
   "source": [
    "words=[\"Saksham\",\"Rastogi\",\"abc\"]\n",
    "for w in words[:]:\n",
    "    if(len(w)>4):\n",
    "        words.insert(0,w)\n",
    "print(words)"
   ]
  },
  {
   "cell_type": "code",
   "execution_count": 16,
   "metadata": {
    "collapsed": false
   },
   "outputs": [
    {
     "name": "stdout",
     "output_type": "stream",
     "text": [
      "0\n",
      "1\n",
      "2\n",
      "3\n",
      "4\n"
     ]
    }
   ],
   "source": [
    "for i in range(5):\n",
    "    print(i)\n",
    "    "
   ]
  },
  {
   "cell_type": "code",
   "execution_count": 24,
   "metadata": {
    "collapsed": false,
    "scrolled": true
   },
   "outputs": [
    {
     "name": "stdout",
     "output_type": "stream",
     "text": [
      "0 Saksham\n",
      "1 Rastogi\n",
      "2 Samarjoy\n",
      "3 Pandit\n"
     ]
    }
   ],
   "source": [
    "array=[\"Saksham\",\"Rastogi\",\"Samarjoy\",\"Pandit\"]\n",
    "for a in range(len(array)):\n",
    "    print(a,array[a])"
   ]
  },
  {
   "cell_type": "code",
   "execution_count": 25,
   "metadata": {
    "collapsed": false
   },
   "outputs": [
    {
     "name": "stdout",
     "output_type": "stream",
     "text": [
      "range(0, 10)\n"
     ]
    }
   ],
   "source": [
    "print(range(10))"
   ]
  },
  {
   "cell_type": "code",
   "execution_count": 40,
   "metadata": {
    "collapsed": false
   },
   "outputs": [
    {
     "name": "stdout",
     "output_type": "stream",
     "text": [
      "prime 2\n",
      "prime 3\n",
      "Not prime 4\n",
      "prime 5\n",
      "Not prime 6\n",
      "prime 7\n",
      "Not prime 8\n",
      "prime 9\n"
     ]
    }
   ],
   "source": [
    "for x in range(2,10):\n",
    "    for i in range(2,x+1):\n",
    "        if(x==2):\n",
    "            print(\"prime\",x)\n",
    "        else:\n",
    "            if x % i==0:\n",
    "                print(\"Not prime\",x)\n",
    "                break\n",
    "            else:\n",
    "                print(\"prime\",x)\n",
    "                break"
   ]
  },
  {
   "cell_type": "code",
   "execution_count": 37,
   "metadata": {
    "collapsed": false
   },
   "outputs": [],
   "source": [
    "for a in range(1,1):\n",
    "    print(a)"
   ]
  },
  {
   "cell_type": "code",
   "execution_count": 43,
   "metadata": {
    "collapsed": false
   },
   "outputs": [
    {
     "name": "stdout",
     "output_type": "stream",
     "text": [
      "6\n"
     ]
    }
   ],
   "source": [
    "def fact(n):\n",
    "    if n==1:\n",
    "        return 1\n",
    "    else:\n",
    "        return (n)*fact(n-1)\n",
    "\n",
    "print(fact(3))"
   ]
  },
  {
   "cell_type": "code",
   "execution_count": 46,
   "metadata": {
    "collapsed": false
   },
   "outputs": [
    {
     "name": "stdout",
     "output_type": "stream",
     "text": [
      "[1, 1, 2]\n"
     ]
    }
   ],
   "source": [
    "def fib(n):\n",
    "    a,b=1,1\n",
    "    result=[]\n",
    "    while a<n:\n",
    "        result.append(a)\n",
    "        a=b\n",
    "        b=a+b\n",
    "    return result\n",
    "\n",
    "print(fib(4))"
   ]
  },
  {
   "cell_type": "code",
   "execution_count": 56,
   "metadata": {
    "collapsed": false,
    "scrolled": true
   },
   "outputs": [
    {
     "name": "stdout",
     "output_type": "stream",
     "text": [
      "Count 2\n",
      "Index 2\n",
      "Index next 3\n",
      "['Lemon', 'Pineapple', 'Lemon', 'Orange']\n",
      "['Lemon', 'Pineapple', 'Lemon', 'Orange', 'GRAPE']\n"
     ]
    }
   ],
   "source": [
    "fruits=[\"Orange\",\"Lemon\",\"Pineapple\",\"Lemon\"]\n",
    "print(\"Count\",fruits.count(\"Lemon\"))\n",
    "print(\"Index\",fruits.index(\"Pineapple\"))\n",
    "print(\"Index next\",fruits.index(\"Lemon\",2))\n",
    "fruits.reverse()\n",
    "print(fruits)\n",
    "fruits.append(\"GRAPE\")\n",
    "print(fruits)"
   ]
  },
  {
   "cell_type": "code",
   "execution_count": 60,
   "metadata": {
    "collapsed": false
   },
   "outputs": [
    {
     "name": "stdout",
     "output_type": "stream",
     "text": [
      "KM 13.793103448275863\n",
      "MILES 23.03448275862069\n",
      "TPM 0.04341317365269461\n"
     ]
    }
   ],
   "source": [
    "dist=10\n",
    "distm=10*1.67\n",
    "time=43.5/60\n",
    "speed=dist/time\n",
    "speedm=distm/time\n",
    "tpm=time/distm\n",
    "print(\"KM\",speed)\n",
    "print(\"MILES\",speedm)\n",
    "print(\"TPM\",tpm)"
   ]
  },
  {
   "cell_type": "code",
   "execution_count": 59,
   "metadata": {
    "collapsed": false
   },
   "outputs": [
    {
     "name": "stdout",
     "output_type": "stream",
     "text": [
      "14\n"
     ]
    }
   ],
   "source": [
    "def square(n):\n",
    "    sum=0\n",
    "    for i in range(1,n+1):\n",
    "        sum=sum+i*i\n",
    "    return sum\n",
    "print(square(3))"
   ]
  },
  {
   "cell_type": "code",
   "execution_count": 62,
   "metadata": {
    "collapsed": false
   },
   "outputs": [
    {
     "name": "stdout",
     "output_type": "stream",
     "text": [
      "yojramaS\n"
     ]
    }
   ],
   "source": [
    "str = \"Samarjoy\"\n",
    "print(str[::-1])"
   ]
  },
  {
   "cell_type": "code",
   "execution_count": null,
   "metadata": {
    "collapsed": true
   },
   "outputs": [],
   "source": []
  }
 ],
 "metadata": {
  "kernelspec": {
   "display_name": "Python 3",
   "language": "python",
   "name": "python3"
  },
  "language_info": {
   "codemirror_mode": {
    "name": "ipython",
    "version": 3
   },
   "file_extension": ".py",
   "mimetype": "text/x-python",
   "name": "python",
   "nbconvert_exporter": "python",
   "pygments_lexer": "ipython3",
   "version": "3.6.0"
  }
 },
 "nbformat": 4,
 "nbformat_minor": 2
}
