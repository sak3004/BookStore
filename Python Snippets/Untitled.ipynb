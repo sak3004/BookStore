{
 "cells": [
  {
   "cell_type": "code",
   "execution_count": 12,
   "metadata": {
    "collapsed": false
   },
   "outputs": [],
   "source": [
    "import nltk"
   ]
  },
  {
   "cell_type": "code",
   "execution_count": 13,
   "metadata": {
    "collapsed": true
   },
   "outputs": [],
   "source": [
    "def get_words(string):\n",
    "    tokenizer = nltk.tokenize.RegexpTokenizer(r'\\w+')\n",
    "    return tokenizer.tokenize(string)\n",
    "\n",
    "string = \"Hello, world. This is a dog. This is a cat.\""
   ]
  },
  {
   "cell_type": "code",
   "execution_count": 15,
   "metadata": {
    "collapsed": false
   },
   "outputs": [
    {
     "name": "stdout",
     "output_type": "stream",
     "text": [
      "dict_items([(('Hello', 'world', 'This'), 1), (('world', 'This', 'is'), 1), (('This', 'is', 'a'), 2), (('is', 'a', 'dog'), 1), (('a', 'dog', 'This'), 1), (('dog', 'This', 'is'), 1), (('is', 'a', 'cat'), 1)])\n"
     ]
    }
   ],
   "source": [
    "words = get_words(string)\n",
    "\n",
    "finder = nltk.collocations.TrigramCollocationFinder.from_words(words)\n",
    "scored = finder.score_ngrams(nltk.collocations.TrigramAssocMeasures().raw_freq)\n",
    "\n",
    "\n",
    "\n",
    "\n",
    "trigrams = finder.ngram_fd.items()\n",
    "print(trigrams)"
   ]
  },
  {
   "cell_type": "code",
   "execution_count": null,
   "metadata": {
    "collapsed": true
   },
   "outputs": [],
   "source": []
  },
  {
   "cell_type": "code",
   "execution_count": null,
   "metadata": {
    "collapsed": true
   },
   "outputs": [],
   "source": []
  },
  {
   "cell_type": "code",
   "execution_count": null,
   "metadata": {
    "collapsed": true
   },
   "outputs": [],
   "source": []
  }
 ],
 "metadata": {
  "kernelspec": {
   "display_name": "Python 3",
   "language": "python",
   "name": "python3"
  },
  "language_info": {
   "codemirror_mode": {
    "name": "ipython",
    "version": 3
   },
   "file_extension": ".py",
   "mimetype": "text/x-python",
   "name": "python",
   "nbconvert_exporter": "python",
   "pygments_lexer": "ipython3",
   "version": "3.6.0"
  }
 },
 "nbformat": 4,
 "nbformat_minor": 2
}
